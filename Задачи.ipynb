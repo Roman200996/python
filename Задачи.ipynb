{
 "cells": [
  {
   "cell_type": "markdown",
   "id": "fd9a25b1",
   "metadata": {},
   "source": [
    "# Задачи в Питоне"
   ]
  },
  {
   "cell_type": "markdown",
   "id": "50d2b27d",
   "metadata": {},
   "source": [
    "# Задача 1 "
   ]
  },
  {
   "cell_type": "markdown",
   "id": "e431ef88",
   "metadata": {},
   "source": [
    "Как найти евклидово расстояние между двумя Series (точками) a и b, не используя встроенную формулу?"
   ]
  },
  {
   "cell_type": "code",
   "execution_count": 2,
   "id": "6e180e7b",
   "metadata": {},
   "outputs": [],
   "source": [
    "import pandas as pd\n",
    "import numpy as np\n",
    "a = pd.Series([2, 4, 6, 8])\n",
    "b = pd.Series([1, 3, 5, 7])"
   ]
  },
  {
   "cell_type": "code",
   "execution_count": 3,
   "id": "d53ba57a",
   "metadata": {},
   "outputs": [
    {
     "name": "stdout",
     "output_type": "stream",
     "text": [
      "2.0\n"
     ]
    }
   ],
   "source": [
    "distance = np.sqrt(np.sum((a-b)**2))\n",
    "\n",
    "print(distance)"
   ]
  },
  {
   "cell_type": "markdown",
   "id": "afc7b2a6",
   "metadata": {},
   "source": [
    "# Задача 2"
   ]
  },
  {
   "cell_type": "markdown",
   "id": "1538e597",
   "metadata": {},
   "source": [
    "Как найти максимально возможное абсолютное значение корреляции каждого столбца с другими столбцами в df?"
   ]
  },
  {
   "cell_type": "code",
   "execution_count": 8,
   "id": "86c0a436",
   "metadata": {},
   "outputs": [
    {
     "name": "stdout",
     "output_type": "stream",
     "text": [
      "e    1.0\n",
      "f    1.0\n",
      "g    1.0\n",
      "h    1.0\n",
      "dtype: float64\n"
     ]
    }
   ],
   "source": [
    "import pandas as pd\n",
    "import numpy as np\n",
    "df = pd.DataFrame(np.random.randint(1, 100, 16).reshape(4, 4), columns=list('efgh'), index=list('abcd'))\n",
    "corr_matrix = df.corr()\n",
    "max_corr = corr_matrix.abs().max()\n",
    "print(max_corr)"
   ]
  },
  {
   "cell_type": "markdown",
   "id": "5463a90e",
   "metadata": {},
   "source": [
    "# Задача 3"
   ]
  },
  {
   "cell_type": "markdown",
   "id": "efe33de7",
   "metadata": {},
   "source": [
    "Как нормализовать все столбцы в DataFrame?\n",
    "\n",
    "Нормализуйте все столбцы df путём вычитания среднего значения столбца и деления на стандартное отклонение.\n",
    "Сделайте так, чтобы все значения в df находились в диапазоне от 0 до 1.\n",
    "\n",
    "df = pd.DataFrame(np.random.randint(1, 100, 16).reshape(4, 4))"
   ]
  },
  {
   "cell_type": "code",
   "execution_count": 11,
   "id": "7f0339d7",
   "metadata": {},
   "outputs": [
    {
     "name": "stdout",
     "output_type": "stream",
     "text": [
      "          0         1         2         3\n",
      "0  1.000000  0.069767  0.000000  0.652778\n",
      "1  0.790698  0.395349  0.942308  0.541667\n",
      "2  0.000000  0.000000  0.923077  0.000000\n",
      "3  0.372093  1.000000  1.000000  1.000000\n"
     ]
    }
   ],
   "source": [
    "import pandas as pd\n",
    "import numpy as np\n",
    "from sklearn.preprocessing import MinMaxScaler\n",
    "\n",
    "df = pd.DataFrame(np.random.randint(1, 100, 16).reshape(4, 4))\n",
    "\n",
    "scaler = MinMaxScaler()\n",
    "df_norm = pd.DataFrame(scaler.fit_transform(df), columns=df.columns)\n",
    "\n",
    "print(df_norm)"
   ]
  },
  {
   "cell_type": "markdown",
   "id": "392148bb",
   "metadata": {},
   "source": [
    "# Задача 4"
   ]
  },
  {
   "cell_type": "markdown",
   "id": "c8d5ab0e",
   "metadata": {},
   "source": [
    "Как объединить два DataFrame по двум столбцам так, чтобы остались только общие строки?\n",
    "\n",
    "Объедините df1 и df2 по столбцам fruit-frukt и weight-ves.\n",
    "\n",
    "df1 = pd.DataFrame({'fruit': ['apple', 'banana', 'orange'] * 3,\n",
    "                    'weight': ['low', 'medium', 'high'] * 3,\n",
    "                    'price': np.random.randint(0, 100, 9)})\n",
    "\n",
    "df2 = pd.DataFrame({'frukt': ['apple', 'banana', 'melon'] * 2,\n",
    "                    'ves': ['low', 'high'] * 3,\n",
    "                    'price': np.random.randint(0, 100, 6)})"
   ]
  },
  {
   "cell_type": "code",
   "execution_count": 14,
   "id": "6e3118f0",
   "metadata": {},
   "outputs": [
    {
     "name": "stdout",
     "output_type": "stream",
     "text": [
      "   fruit weight  price_x  frukt  ves  price_y\n",
      "0  apple    low       34  apple  low       48\n",
      "1  apple    low       25  apple  low       48\n",
      "2  apple    low       77  apple  low       48\n"
     ]
    }
   ],
   "source": [
    "import pandas as pd\n",
    "import numpy as np\n",
    "\n",
    "df1 = pd.DataFrame({'fruit': ['apple', 'banana', 'orange'] * 3,\n",
    "                    'weight': ['low', 'medium', 'high'] * 3,\n",
    "                    'price': np.random.randint(0, 100, 9)})\n",
    "\n",
    "df2 = pd.DataFrame({'frukt': ['apple', 'banana', 'melon'] * 2,\n",
    "                    'ves': ['low', 'high'] * 3,\n",
    "                    'price': np.random.randint(0, 100, 6)})\n",
    "\n",
    "df_merged = pd.merge(df1, df2, left_on=['fruit', 'weight'], right_on=['frukt', 'ves'], how='inner')\n",
    "\n",
    "print(df_merged)"
   ]
  },
  {
   "cell_type": "markdown",
   "id": "7f8bb5ae",
   "metadata": {},
   "source": [
    "# Задача 5"
   ]
  },
  {
   "cell_type": "markdown",
   "id": "e02a6079",
   "metadata": {},
   "source": [
    "Как узнать частоту уникальных значений во всём DataFrame?\n",
    "\n",
    "Ввод:\n",
    "\n",
    "df = pd.DataFrame(np.random.randint(1, 10, 16).reshape(4, 4), columns=list('abcd'))"
   ]
  },
  {
   "cell_type": "code",
   "execution_count": 15,
   "id": "3d0df402",
   "metadata": {},
   "outputs": [
    {
     "name": "stdout",
     "output_type": "stream",
     "text": [
      "    value  count\n",
      "0       3      2\n",
      "1       2      1\n",
      "2       6      1\n",
      "3       8      2\n",
      "4       3      1\n",
      "5       1      1\n",
      "6       3      1\n",
      "7       6      1\n",
      "8       5      1\n",
      "9       4      1\n",
      "10      7      1\n",
      "11      5      1\n",
      "12      6      1\n",
      "13      8      1\n"
     ]
    }
   ],
   "source": [
    "import pandas as pd\n",
    "import numpy as np\n",
    "\n",
    "df = pd.DataFrame(np.random.randint(1, 10, 16).reshape(4, 4), columns=list('abcd'))\n",
    "\n",
    "value_counts = pd.concat([df[col].value_counts() for col in df.columns]).reset_index()\n",
    "value_counts.columns = ['value', 'count']\n",
    "\n",
    "print(value_counts)"
   ]
  },
  {
   "cell_type": "markdown",
   "id": "a888d1a0",
   "metadata": {},
   "source": [
    "# Задача 6"
   ]
  },
  {
   "cell_type": "markdown",
   "id": "b04d759d",
   "metadata": {},
   "source": [
    "Как создать новый столбец, который содержит номера ближайших по евклидовому расстоянию столбцов?"
   ]
  },
  {
   "cell_type": "code",
   "execution_count": 17,
   "id": "da98fba3",
   "metadata": {},
   "outputs": [
    {
     "name": "stdout",
     "output_type": "stream",
     "text": [
      "    e   f   g   h  closest\n",
      "a  88   2  55   1        1\n",
      "b  99  73  13  16        3\n",
      "c  82  71  42  47        3\n",
      "d  75  63  35  18        2\n"
     ]
    }
   ],
   "source": [
    "import numpy as np\n",
    "from scipy.spatial.distance import pdist, squareform\n",
    "\n",
    "df = pd.DataFrame(np.random.randint(1, 100, 16).reshape(4, 4), columns=list('efgh'), index=list('abcd'))\n",
    "\n",
    "distances = pdist(df.T, metric='euclidean')\n",
    "\n",
    "dist_matrix = squareform(distances)\n",
    "\n",
    "closest_cols = dist_matrix.argsort(axis=1)[:, 1]\n",
    "\n",
    "df['closest'] = closest_cols\n",
    "\n",
    "print(df)"
   ]
  },
  {
   "cell_type": "markdown",
   "id": "b6a5d8fe",
   "metadata": {},
   "source": [
    "# Задача 7"
   ]
  },
  {
   "cell_type": "markdown",
   "id": "ede4ca2b",
   "metadata": {},
   "source": [
    "Как поменять местами две строки в двумерном массиве NumPy? Поменяйте местами строки 1 и 3 массива a."
   ]
  },
  {
   "cell_type": "code",
   "execution_count": 21,
   "id": "45d84497",
   "metadata": {},
   "outputs": [
    {
     "name": "stdout",
     "output_type": "stream",
     "text": [
      "[[0 1 2]\n",
      " [3 4 5]\n",
      " [6 7 8]]\n"
     ]
    }
   ],
   "source": [
    "a = np.arange(9).reshape(3,3)  \n",
    "print(a)"
   ]
  },
  {
   "cell_type": "markdown",
   "id": "0b5c4b81",
   "metadata": {},
   "source": [
    "# Задача 8"
   ]
  },
  {
   "cell_type": "markdown",
   "id": "eafbc19c",
   "metadata": {},
   "source": [
    "Как найти количество уникальных значений в массиве NumPy? Найдите уникальные значения и их количество в столбце species таблицы iris."
   ]
  },
  {
   "cell_type": "code",
   "execution_count": 22,
   "id": "83b5af81",
   "metadata": {},
   "outputs": [
    {
     "name": "stdout",
     "output_type": "stream",
     "text": [
      "[b'Iris-setosa' b'Iris-versicolor' b'Iris-virginica']\n",
      "[50 50 50]\n"
     ]
    }
   ],
   "source": [
    "url = 'https://archive.ics.uci.edu/ml/machine-learning-databases/iris/iris.data'\n",
    "iris = np.genfromtxt(url, delimiter=',', dtype='object')\n",
    "\n",
    "species = iris[:, -1]\n",
    "\n",
    "unique_species, counts = np.unique(species, return_counts=True)\n",
    "\n",
    "print(unique_species)\n",
    "print(counts)"
   ]
  },
  {
   "cell_type": "markdown",
   "id": "6407ccf5",
   "metadata": {},
   "source": [
    "# Задача 9"
   ]
  },
  {
   "cell_type": "markdown",
   "id": "f56653f2",
   "metadata": {},
   "source": [
    "Как найти второе максимальное значение в массиве, который сгруппирован по другому массиву? Найдите значение второго самого длинного petallength вида setosa в таблице iris."
   ]
  },
  {
   "cell_type": "code",
   "execution_count": 23,
   "id": "7b613b88",
   "metadata": {},
   "outputs": [
    {
     "name": "stdout",
     "output_type": "stream",
     "text": [
      "Второе самое длинное petallength вида setosa:  1.9\n"
     ]
    }
   ],
   "source": [
    "setosa_petal_lengths = iris[iris[:, 4] == b'Iris-setosa'][:, 2].astype(float)\n",
    "setosa_petal_lengths_sorted = np.sort(setosa_petal_lengths)[::-1]\n",
    "second_largest_setosa_petal_length = setosa_petal_lengths_sorted[1]\n",
    "\n",
    "print(\"Второе самое длинное petallength вида setosa: \", second_largest_setosa_petal_length)"
   ]
  },
  {
   "cell_type": "markdown",
   "id": "85cdb69e",
   "metadata": {},
   "source": [
    "# Задача 10"
   ]
  },
  {
   "cell_type": "markdown",
   "id": "51f3f0ac",
   "metadata": {},
   "source": [
    "Как отранжировать элементы массива NumPy?\n",
    "a = np.random.randint(100, size=10)\n",
    "print(a)\n",
    "[9 15 64 28 89 93 29 8 73 0]"
   ]
  },
  {
   "cell_type": "code",
   "execution_count": 25,
   "id": "e2a0c087",
   "metadata": {},
   "outputs": [
    {
     "name": "stdout",
     "output_type": "stream",
     "text": [
      "[ 8 12 20 28 30 31 48 55 77 80]\n"
     ]
    }
   ],
   "source": [
    "idx = np.argsort(a)\n",
    "ranked_a = a[idx]\n",
    "print(ranked_a)\n",
    "# [ 0  8  9 15 28 29 64 73 89 93]"
   ]
  },
  {
   "cell_type": "code",
   "execution_count": 26,
   "id": "855aac10",
   "metadata": {},
   "outputs": [
    {
     "name": "stdout",
     "output_type": "stream",
     "text": [
      "[0 5 9 6 3 7 1 8 4 2]\n"
     ]
    }
   ],
   "source": [
    "a = np.random.randint(100, size=10)\n",
    "\n",
    "# Решение\n",
    "print(a.argsort().argsort())"
   ]
  },
  {
   "cell_type": "markdown",
   "id": "b5b0db6d",
   "metadata": {},
   "source": [
    "# Задача 11"
   ]
  },
  {
   "cell_type": "markdown",
   "id": "2eb1a436",
   "metadata": {},
   "source": [
    "Как найти результат деления минимального значения на максимальное в каждой строке двумерного массива? \n",
    "np.random.seed(10)\n",
    "a = np.random.randint(1, 10, [3, 3])\n",
    "a\n",
    "array([[5, 1, 2],\n",
    "[1, 2, 9],\n",
    "[1, 9, 7]])"
   ]
  },
  {
   "cell_type": "code",
   "execution_count": 28,
   "id": "cad58fba",
   "metadata": {},
   "outputs": [
    {
     "name": "stdout",
     "output_type": "stream",
     "text": [
      "[0.2        0.11111111 0.11111111]\n"
     ]
    }
   ],
   "source": [
    "import numpy as np\n",
    "\n",
    "np.random.seed(10)\n",
    "a = np.random.randint(1, 10, [3, 3])\n",
    "\n",
    "result = np.min(a, axis=1) / np.max(a, axis=1)\n",
    "print(result)"
   ]
  },
  {
   "cell_type": "markdown",
   "id": "bb8adf89",
   "metadata": {},
   "source": [
    "# Задача 12"
   ]
  },
  {
   "cell_type": "markdown",
   "id": "bbdc10ef",
   "metadata": {},
   "source": [
    "Как найти повторяющиеся значения в массиве NumPy? Найдите повторяющиеся значения (начиная со второго вхождения) в заданном массиве и отметьте их как True. Первое вхождение отмечайте как False.\n",
    "np.random.seed(10)\n",
    "a = np.random.randint(0, 7, 10)"
   ]
  },
  {
   "cell_type": "code",
   "execution_count": 32,
   "id": "1ee23aa3",
   "metadata": {},
   "outputs": [
    {
     "name": "stdout",
     "output_type": "stream",
     "text": [
      "[False  True False  True  True False False False False False]\n"
     ]
    }
   ],
   "source": [
    "import numpy as np\n",
    "\n",
    "np.random.seed(10)\n",
    "a = np.random.randint(0, 7, 10)\n",
    "\n",
    "unique_vals, counts = np.unique(a, return_counts=True)\n",
    "\n",
    "repeated_vals = np.full(a.shape[0], False)\n",
    "repeated_vals[np.where(counts > 1)[0][1:]] = True\n",
    "\n",
    "print(repeated_vals)"
   ]
  },
  {
   "cell_type": "markdown",
   "id": "ac2eb355",
   "metadata": {},
   "source": [
    "# Задача 13"
   ]
  },
  {
   "cell_type": "markdown",
   "id": "dd6690b7",
   "metadata": {},
   "source": [
    "Как удалить из массива NumPy строки, которые содержат nan?"
   ]
  },
  {
   "cell_type": "code",
   "execution_count": 35,
   "id": "8e853d4c",
   "metadata": {},
   "outputs": [
    {
     "name": "stdout",
     "output_type": "stream",
     "text": [
      "[[4.9 3.  1.4 0.2]\n",
      " [4.7 3.2 1.3 0.2]\n",
      " [4.6 3.1 1.5 0.2]\n",
      " [5.  3.6 1.4 0.2]\n",
      " [5.4 3.9 1.7 0.4]\n",
      " [4.6 3.4 1.4 0.3]\n",
      " [5.  3.4 1.5 0.2]\n",
      " [4.9 3.1 1.5 0.1]\n",
      " [5.4 3.7 1.5 0.2]\n",
      " [4.8 3.4 1.6 0.2]\n",
      " [4.8 3.  1.4 0.1]\n",
      " [5.8 4.  1.2 0.2]\n",
      " [5.7 4.4 1.5 0.4]\n",
      " [5.1 3.5 1.4 0.3]\n",
      " [5.7 3.8 1.7 0.3]\n",
      " [5.1 3.8 1.5 0.3]\n",
      " [5.4 3.4 1.7 0.2]\n",
      " [5.1 3.7 1.5 0.4]\n",
      " [4.6 3.6 1.  0.2]\n",
      " [5.1 3.3 1.7 0.5]\n",
      " [4.8 3.4 1.9 0.2]\n",
      " [5.  3.  1.6 0.2]\n",
      " [5.  3.4 1.6 0.4]\n",
      " [5.2 3.5 1.5 0.2]\n",
      " [5.2 3.4 1.4 0.2]\n",
      " [4.7 3.2 1.6 0.2]\n",
      " [4.8 3.1 1.6 0.2]\n",
      " [5.4 3.4 1.5 0.4]\n",
      " [5.2 4.1 1.5 0.1]\n",
      " [4.9 3.1 1.5 0.1]\n",
      " [5.  3.2 1.2 0.2]\n",
      " [5.5 3.5 1.3 0.2]\n",
      " [4.9 3.1 1.5 0.1]\n",
      " [4.4 3.  1.3 0.2]\n",
      " [5.1 3.4 1.5 0.2]\n",
      " [4.5 2.3 1.3 0.3]\n",
      " [4.4 3.2 1.3 0.2]\n",
      " [5.  3.5 1.6 0.6]\n",
      " [5.1 3.8 1.9 0.4]\n",
      " [4.8 3.  1.4 0.3]\n",
      " [5.1 3.8 1.6 0.2]\n",
      " [4.6 3.2 1.4 0.2]\n",
      " [5.3 3.7 1.5 0.2]\n",
      " [5.  3.3 1.4 0.2]\n",
      " [7.  3.2 4.7 1.4]\n",
      " [6.4 3.2 4.5 1.5]\n",
      " [6.9 3.1 4.9 1.5]\n",
      " [5.5 2.3 4.  1.3]\n",
      " [5.7 2.8 4.5 1.3]\n",
      " [6.3 3.3 4.7 1.6]\n",
      " [4.9 2.4 3.3 1. ]\n",
      " [6.6 2.9 4.6 1.3]\n",
      " [5.2 2.7 3.9 1.4]\n",
      " [5.  2.  3.5 1. ]\n",
      " [5.9 3.  4.2 1.5]\n",
      " [6.1 2.9 4.7 1.4]\n",
      " [5.6 2.9 3.6 1.3]\n",
      " [6.7 3.1 4.4 1.4]\n",
      " [5.6 3.  4.5 1.5]\n",
      " [5.8 2.7 4.1 1. ]\n",
      " [6.2 2.2 4.5 1.5]\n",
      " [5.6 2.5 3.9 1.1]\n",
      " [5.9 3.2 4.8 1.8]\n",
      " [6.1 2.8 4.  1.3]\n",
      " [6.3 2.5 4.9 1.5]\n",
      " [6.4 2.9 4.3 1.3]\n",
      " [6.6 3.  4.4 1.4]\n",
      " [6.8 2.8 4.8 1.4]\n",
      " [6.  2.9 4.5 1.5]\n",
      " [5.7 2.6 3.5 1. ]\n",
      " [5.5 2.4 3.8 1.1]\n",
      " [5.5 2.4 3.7 1. ]\n",
      " [5.8 2.7 3.9 1.2]\n",
      " [6.  2.7 5.1 1.6]\n",
      " [5.4 3.  4.5 1.5]\n",
      " [6.  3.4 4.5 1.6]\n",
      " [6.7 3.1 4.7 1.5]\n",
      " [6.3 2.3 4.4 1.3]\n",
      " [5.5 2.5 4.  1.3]\n",
      " [5.5 2.6 4.4 1.2]\n",
      " [6.1 3.  4.6 1.4]\n",
      " [5.8 2.6 4.  1.2]\n",
      " [5.  2.3 3.3 1. ]\n",
      " [5.6 2.7 4.2 1.3]\n",
      " [5.7 3.  4.2 1.2]\n",
      " [5.7 2.9 4.2 1.3]\n",
      " [6.2 2.9 4.3 1.3]\n",
      " [5.1 2.5 3.  1.1]\n",
      " [5.7 2.8 4.1 1.3]\n",
      " [5.8 2.7 5.1 1.9]\n",
      " [7.1 3.  5.9 2.1]\n",
      " [6.3 2.9 5.6 1.8]\n",
      " [6.5 3.  5.8 2.2]\n",
      " [7.6 3.  6.6 2.1]\n",
      " [4.9 2.5 4.5 1.7]\n",
      " [6.7 2.5 5.8 1.8]\n",
      " [7.2 3.6 6.1 2.5]\n",
      " [6.5 3.2 5.1 2. ]\n",
      " [6.4 2.7 5.3 1.9]\n",
      " [6.8 3.  5.5 2.1]\n",
      " [5.8 2.8 5.1 2.4]\n",
      " [6.5 3.  5.5 1.8]\n",
      " [7.7 3.8 6.7 2.2]\n",
      " [7.7 2.6 6.9 2.3]\n",
      " [6.  2.2 5.  1.5]\n",
      " [6.9 3.2 5.7 2.3]\n",
      " [5.6 2.8 4.9 2. ]\n",
      " [6.3 2.7 4.9 1.8]\n",
      " [6.7 3.3 5.7 2.1]\n",
      " [7.2 3.2 6.  1.8]\n",
      " [6.1 3.  4.9 1.8]\n",
      " [6.4 2.8 5.6 2.1]\n",
      " [7.2 3.  5.8 1.6]\n",
      " [7.4 2.8 6.1 1.9]\n",
      " [7.9 3.8 6.4 2. ]\n",
      " [6.4 2.8 5.6 2.2]\n",
      " [6.3 2.8 5.1 1.5]\n",
      " [6.1 2.6 5.6 1.4]\n",
      " [7.7 3.  6.1 2.3]\n",
      " [6.3 3.4 5.6 2.4]\n",
      " [6.4 3.1 5.5 1.8]\n",
      " [6.  3.  4.8 1.8]\n",
      " [6.7 3.1 5.6 2.4]\n",
      " [6.9 3.1 5.1 2.3]\n",
      " [5.8 2.7 5.1 1.9]\n",
      " [6.8 3.2 5.9 2.3]\n",
      " [6.7 3.3 5.7 2.5]\n",
      " [6.7 3.  5.2 2.3]\n",
      " [6.3 2.5 5.  1.9]\n",
      " [6.5 3.  5.2 2. ]\n",
      " [6.2 3.4 5.4 2.3]\n",
      " [5.9 3.  5.1 1.8]]\n"
     ]
    }
   ],
   "source": [
    "url = 'https://archive.ics.uci.edu/ml/machine-learning-databases/iris/iris.data'\n",
    "iris = np.genfromtxt(url, delimiter=',', dtype='float', usecols=[0, 1, 2, 3])\n",
    "iris[np.random.randint(150, size=20), np.random.randint(4, size=20)] = np.nan\n",
    "iris_1 = iris[~np.isnan(iris).any(axis=1)]\n",
    "print(iris_1)"
   ]
  },
  {
   "cell_type": "markdown",
   "id": "0b054728",
   "metadata": {},
   "source": [
    "# Задача 14"
   ]
  },
  {
   "cell_type": "markdown",
   "id": "dc82b7db",
   "metadata": {},
   "source": [
    "Как сделать left join двух объектов datatable.Frame? Объедините заданные объекты по ключу А."
   ]
  },
  {
   "cell_type": "code",
   "execution_count": 45,
   "id": "89a24ee0",
   "metadata": {},
   "outputs": [
    {
     "name": "stdout",
     "output_type": "stream",
     "text": [
      "Collecting datatable\n",
      "  Using cached datatable-1.0.0.tar.gz (1.1 MB)\n",
      "  Getting requirements to build wheel ... \u001b[?25ldone\n",
      "\u001b[?25h  Preparing metadata (pyproject.toml) ... \u001b[?25lerror\n",
      "  \u001b[1;31merror\u001b[0m: \u001b[1msubprocess-exited-with-error\u001b[0m\n",
      "  \n",
      "  \u001b[31m×\u001b[0m \u001b[32mPreparing metadata \u001b[0m\u001b[1;32m(\u001b[0m\u001b[32mpyproject.toml\u001b[0m\u001b[1;32m)\u001b[0m did not run successfully.\n",
      "  \u001b[31m│\u001b[0m exit code: \u001b[1;36m1\u001b[0m\n",
      "  \u001b[31m╰─>\u001b[0m \u001b[31m[33 lines of output]\u001b[0m\n",
      "  \u001b[31m   \u001b[0m \u001b[90mBuilding extension \u001b[1;97m_datatable\u001b[0;90m\u001b[m\n",
      "  \u001b[31m   \u001b[0m \u001b[90mBuild directory = 'build/build'\u001b[m\n",
      "  \u001b[31m   \u001b[0m \u001b[90mCreated directory 'build/build'\u001b[m\n",
      "  \u001b[31m   \u001b[0m \u001b[90mDestination directory = 'src/datatable/lib'\u001b[m\n",
      "  \u001b[31m   \u001b[0m \u001b[90mAdded 309 source files from pattern \u001b[1;97msrc/core/**/*.cc\u001b[0;90m: ['src/core/writebuf.cc', 'src/core/set_funcs.cc', 'src/core/py_encodings.cc', 'src/core/cstring.cc', 'src/core/column.cc', 'src/core/py_buffers.cc', 'src/core/groupby.cc', 'src/core/sort_insert.cc', 'src/core/stype.cc', 'src/core/api.cc', 'src/core/buffer.cc', 'src/core/rowindex_slice.cc', 'src/core/stats.cc', 'src/core/mmm.cc', 'src/core/call_logger.cc', 'src/core/rowindex_array.cc', 'src/core/sort.cc', 'src/core/rowindex.cc', 'src/core/column_from_python.cc', 'src/core/options.cc', 'src/core/column_from_arrow.cc', 'src/core/encodings.cc', 'src/core/datatablemodule.cc', 'src/core/sort_groups.cc', 'src/core/ltype.cc', 'src/core/datatable.cc', 'src/core/wstringcol.cc', 'src/core/write/value_writer.cc', 'src/core/write/csv_writer.cc', 'src/core/write/write_chronicler.cc', 'src/core/write/write_manager.cc', 'src/core/write/writing_context.cc', 'src/core/parallel/job_idle.cc', 'src/core/parallel/job_shutdown.cc', 'src/core/parallel/parallel_region.cc', 'src/core/parallel/thread_team.cc', 'src/core/parallel/string_utils.cc', 'src/core/parallel/python_lock.cc', 'src/core/parallel/thread_pool.cc', 'src/core/parallel/parallel_for_dynamic.cc', 'src/core/parallel/thread_worker.cc', 'src/core/parallel/api_primitives.cc', 'src/core/parallel/thread_job.cc', 'src/core/parallel/parallel_for_ordered.cc', 'src/core/types/py_type.cc', 'src/core/types/type_time.cc', 'src/core/types/type_object.cc', 'src/core/types/type_int.cc', 'src/core/types/type_invalid.cc', 'src/core/types/type_void.cc', 'src/core/types/type_bool.cc', 'src/core/types/type_float.cc', 'src/core/types/typeimpl_numeric.cc', 'src/core/types/type.cc', 'src/core/types/type_string.cc', 'src/core/types/typeimpl.cc', 'src/core/types/type_date.cc', 'src/core/progress/progress_bar.cc', 'src/core/progress/work.cc', 'src/core/progress/progress_manager.cc', 'src/core/progress/_options.cc', 'src/core/sort/sorter.cc', 'src/core/python/set.cc', 'src/core/python/dict.cc', 'src/core/python/arg.cc', 'src/core/python/string.cc', 'src/core/python/date.cc', 'src/core/python/xargs.cc', 'src/core/python/int.cc', 'src/core/python/xobject.cc', 'src/core/python/obj.cc', 'src/core/python/namedtuple.cc', 'src/core/python/args.cc', 'src/core/python/range.cc', 'src/core/python/float.cc', 'src/core/python/bool.cc', 'src/core/python/tuple.cc', 'src/core/python/iter.cc', 'src/core/python/slice.cc', 'src/core/python/list.cc', 'src/core/python/pybuffer.cc', 'src/core/read/input_column.cc', 'src/core/read/source.cc', 'src/core/read/chunk_coordinates.cc', 'src/core/read/parse_context.cc', 'src/core/read/thread_context.cc', 'src/core/read/constants.cc', 'src/core/read/multisource.cc', 'src/core/read/preframe.cc', 'src/core/read/output_column.cc', 'src/core/read/py_fread.cc', 'src/core/read/parallel_reader.cc', 'src/core/read/py_read_iterator.cc', 'src/core/read/parsers/info.cc', 'src/core/read/parsers/parse_date.cc', 'src/core/read/parsers/parse_int.cc', 'src/core/read/parsers/parse_float.cc', 'src/core/read/parsers/parse_string.cc', 'src/core/read/parsers/parse_bool.cc', 'src/core/read/parsers/parse_void.cc', 'src/core/read/parsers/parse_time.cc', 'src/core/read/parsers/ptype_iterator.cc', 'src/core/read/fread/fread_thread_context.cc', 'src/core/read/fread/fread_parallel_reader.cc', 'src/core/tests/test_parallel_for_ordered.cc', 'src/core/tests/test_progress.cc', 'src/core/tests/test_atomic.cc', 'src/core/tests/test_barrier.cc', 'src/core/tests/test_shared_mutex.cc', 'src/core/tests/test_parallel_for.cc', 'src/core/expr/fexpr_literal_bool.cc', 'src/core/expr/py_join.cc', 'src/core/expr/namespace.cc', 'src/core/expr/fexpr_func.cc', 'src/core/expr/fexpr_literal_string.cc', 'src/core/expr/fexpr_dict.cc', 'src/core/expr/fexpr.cc', 'src/core/expr/fexpr_literal_sliceall.cc', 'src/core/expr/expr.cc', 'src/core/expr/head_func_colset.cc', 'src/core/expr/fexpr_literal_int.cc', 'src/core/expr/fexpr_slice.cc', 'src/core/expr/py_sort.cc', 'src/core/expr/fexpr_func_unary.cc', 'src/core/expr/fexpr_literal_type.cc', 'src/core/expr/head_reduce_unary.cc', 'src/core/expr/fexpr_literal_none.cc', 'src/core/expr/args_registry.cc', 'src/core/expr/fexpr_literal_slicestr.cc', 'src/core/expr/workframe.cc', 'src/core/expr/head.cc', 'src/core/expr/eval_context.cc', 'src/core/expr/fexpr_qcut.cc', 'src/core/expr/head_func_binary.cc', 'src/core/expr/fexpr_round.cc', 'src/core/expr/head_func_isclose.cc', 'src/core/expr/head_reduce_nullary.cc', 'src/core/expr/head_func_unary.cc', 'src/core/expr/py_by.cc', 'src/core/expr/fexpr_frame.cc', 'src/core/expr/fexpr_astype.cc', 'src/core/expr/fexpr_literal_sliceint.cc', 'src/core/expr/head_reduce_binary.cc', 'src/core/expr/fexpr_list.cc', 'src/core/expr/fexpr_column_asarg.cc', 'src/core/expr/fexpr_ifelse.cc', 'src/core/expr/head_func.cc', 'src/core/expr/head_reduce.cc', 'src/core/expr/fexpr_column_asattr.cc', 'src/core/expr/fexpr_literal_float.cc', 'src/core/expr/py_update.cc', 'src/core/expr/head_func_shift.cc', 'src/core/expr/fexpr_cut.cc', 'src/core/expr/fexpr_literal.cc', 'src/core/expr/fexpr_literal_range.cc', 'src/core/expr/fbinary/fexpr__pow__.cc', 'src/core/expr/fbinary/fexpr__truediv__.cc', 'src/core/expr/fbinary/math.cc', 'src/core/expr/fbinary/fexpr__ne__.cc', 'src/core/expr/fbinary/fexpr__gt__.cc', 'src/core/expr/fbinary/fexpr__add__.cc', 'src/core/expr/fbinary/fexpr__le__.cc', 'src/core/expr/fbinary/bimaker.cc', 'src/core/expr/fbinary/fexpr__mul__.cc', 'src/core/expr/fbinary/fexpr__compare__.cc', 'src/core/expr/fbinary/fexpr__eq__.cc', 'src/core/expr/fbinary/fexpr_binaryop.cc', 'src/core/expr/fbinary/fexpr__mod__.cc', 'src/core/expr/fbinary/fexpr__lt__.cc', 'src/core/expr/fbinary/fexpr__floordiv__.cc', 'src/core/expr/fbinary/fexpr__ge__.cc', 'src/core/expr/fbinary/pyfn.cc', 'src/core/expr/fbinary/fexpr__sub__.cc', 'src/core/expr/fbinary/bitwise.cc', 'src/core/expr/fnary/rowcount.cc', 'src/core/expr/fnary/rowall.cc', 'src/core/expr/fnary/rowmean.cc', 'src/core/expr/fnary/rowminmax.cc', 'src/core/expr/fnary/rowfirstlast.cc', 'src/core/expr/fnary/rowsd.cc', 'src/core/expr/fnary/rowany.cc', 'src/core/expr/fnary/rowsum.cc', 'src/core/expr/fnary/fnary.cc', 'src/core/expr/time/fexpr_day_of_week.cc', 'src/core/expr/time/fexpr_ymd.cc', 'src/core/expr/time/fexpr_year_month_day.cc', 'src/core/expr/time/fexpr_ymdt.cc', 'src/core/expr/time/fexpr_hour_min_sec.cc', 'src/core/expr/funary/special.cc', 'src/core/expr/funary/basic.cc', 'src/core/expr/funary/umaker.cc', 'src/core/expr/funary/hyperbolic.cc', 'src/core/expr/funary/trigonometric.cc', 'src/core/expr/funary/exponential.cc', 'src/core/expr/funary/floating.cc', 'src/core/expr/funary/pyfn.cc', 'src/core/expr/str/fexpr_len.cc', 'src/core/expr/re/fexpr_match.cc', 'src/core/frame/to_python.cc', 'src/core/frame/__iter__.cc', 'src/core/frame/replace.cc', 'src/core/frame/repeat.cc', 'src/core/frame/rbind.cc', 'src/core/frame/names.cc', 'src/core/frame/to_arrow.cc', 'src/core/frame/to_numpy.cc', 'src/core/frame/stats.cc', 'src/core/frame/py_frame.cc', 'src/core/frame/key.cc', 'src/core/frame/to_pandas.cc', 'src/core/frame/__getbuffer__.cc', 'src/core/frame/cbind.cc', 'src/core/frame/to_csv.cc', 'src/core/frame/join.cc', 'src/core/frame/__sizeof__.cc', 'src/core/frame/__init__.cc', 'src/core/frame/__repr__.cc', 'src/core/frame/integrity_check.cc', 'src/core/frame/__getitem__.cc', 'src/core/frame/repr/text_column.cc', 'src/core/frame/repr/repr_options.cc', 'src/core/frame/repr/html_styles.cc', 'src/core/frame/repr/terminal_widget.cc', 'src/core/frame/repr/widget.cc', 'src/core/utils/tests.cc', 'src/core/utils/alloc.cc', 'src/core/utils/file.cc', 'src/core/utils/exceptions.cc', 'src/core/utils/fuzzy_match.cc', 'src/core/utils/logger.cc', 'src/core/utils/misc.cc', 'src/core/utils/temporary_file.cc', 'src/core/utils/wcwidth.cc', 'src/core/utils/terminal/tstring_impl.cc', 'src/core/utils/terminal/tstring_styled.cc', 'src/core/utils/terminal/terminal_stream.cc', 'src/core/utils/terminal/tstring.cc', 'src/core/utils/terminal/tstring_plain.cc', 'src/core/utils/terminal/tstring_mixed.cc', 'src/core/utils/terminal/terminal.cc', 'src/core/column/cast_to_obj.cc', 'src/core/column/column_impl.cc', 'src/core/column/const.cc', 'src/core/column/ifelsen.cc', 'src/core/column/truncated.cc', 'src/core/column/const_na.cc', 'src/core/column/sentinel.cc', 'src/core/column/view.cc', 'src/core/column/cast_to_string.cc', 'src/core/column/npmasked.cc', 'src/core/column/repeated.cc', 'src/core/column/cast_numeric.cc', 'src/core/column/cast_date32.cc', 'src/core/column/sentinel_fw.cc', 'src/core/column/rbound.cc', 'src/core/column/arrow_void.cc', 'src/core/column/arrow_bool.cc', 'src/core/column/cast_object.cc', 'src/core/column/range.cc', 'src/core/column/cast_to_date32.cc', 'src/core/column/latent.cc', 'src/core/column/cast_bool.cc', 'src/core/column/date_from_weeks.cc', 'src/core/column/pysources.cc', 'src/core/column/cast_to_bool.cc', 'src/core/column/arrow_fw.cc', 'src/core/column/cast_string.cc', 'src/core/column/ifelse.cc', 'src/core/column/date_from_months.cc', 'src/core/column/cast.cc', 'src/core/column/re_match.cc', 'src/core/column/arrow_str.cc', 'src/core/column/string_plus.cc', 'src/core/column/date_from_years.cc', 'src/core/column/sentinel_str.cc', 'src/core/column/virtual.cc', 'src/core/column/time_scaled.cc', 'src/core/column/string_slice.cc', 'src/core/column/cast_to_time64.cc', 'src/core/column/nafilled.cc', 'src/core/models/py_ftrl.cc', 'src/core/models/py_validator.cc', 'src/core/models/dt_linearmodel_base.cc', 'src/core/models/utils.cc', 'src/core/models/column_hasher.cc', 'src/core/models/dt_ftrl_base.cc', 'src/core/models/column_caster.cc', 'src/core/models/kfold.cc', 'src/core/models/aggregate.cc', 'src/core/models/murmurhash.cc', 'src/core/models/py_linearmodel.cc', 'src/core/models/dt_linearmodel.cc', 'src/core/models/label_encode.cc', 'src/core/models/dt_ftrl.cc', 'src/core/csv/toa.cc', 'src/core/csv/fread.cc', 'src/core/csv/reader_arff.cc', 'src/core/csv/reader_fread.cc', 'src/core/csv/reader.cc', 'src/core/lib/zlib/trees.cc', 'src/core/lib/zlib/crc32.cc', 'src/core/lib/zlib/deflate.cc', 'src/core/lib/zlib/adler32.cc', 'src/core/lib/zlib/zutil.cc', 'src/core/lib/mman/mman.cc', 'src/core/lib/hh/date.cc', 'src/core/jay/open_jay.cc', 'src/core/jay/save_jay.cc', 'src/core/str/split_into_nhot.cc']\u001b[m\n",
      "  \u001b[31m   \u001b[0m \u001b[90mUsing compiler of class xbuild.compiler.Compiler\u001b[m\n",
      "  \u001b[31m   \u001b[0m Traceback (most recent call last):\n",
      "  \u001b[31m   \u001b[0m   File \"/Users/romanzinchenko/anaconda3/lib/python3.10/site-packages/pip/_vendor/pep517/in_process/_in_process.py\", line 144, in prepare_metadata_for_build_wheel\n",
      "  \u001b[31m   \u001b[0m     hook = backend.prepare_metadata_for_build_wheel\n",
      "  \u001b[31m   \u001b[0m AttributeError: module 'ext' has no attribute 'prepare_metadata_for_build_wheel'\n",
      "  \u001b[31m   \u001b[0m \n",
      "  \u001b[31m   \u001b[0m During handling of the above exception, another exception occurred:\n",
      "  \u001b[31m   \u001b[0m \n",
      "  \u001b[31m   \u001b[0m Traceback (most recent call last):\n",
      "  \u001b[31m   \u001b[0m   File \"/Users/romanzinchenko/anaconda3/lib/python3.10/site-packages/pip/_vendor/pep517/in_process/_in_process.py\", line 351, in <module>\n",
      "  \u001b[31m   \u001b[0m     main()\n",
      "  \u001b[31m   \u001b[0m   File \"/Users/romanzinchenko/anaconda3/lib/python3.10/site-packages/pip/_vendor/pep517/in_process/_in_process.py\", line 333, in main\n",
      "  \u001b[31m   \u001b[0m     json_out['return_val'] = hook(**hook_input['kwargs'])\n",
      "  \u001b[31m   \u001b[0m   File \"/Users/romanzinchenko/anaconda3/lib/python3.10/site-packages/pip/_vendor/pep517/in_process/_in_process.py\", line 148, in prepare_metadata_for_build_wheel\n",
      "  \u001b[31m   \u001b[0m     whl_basename = backend.build_wheel(metadata_directory, config_settings)\n",
      "  \u001b[31m   \u001b[0m   File \"/private/var/folders/4n/5q3wzkcd1fb2_zg_9xld_8l00000gn/T/pip-install-i8yzssew/datatable_80fecd4ce5a345259e7c1f19913a78e8/ci/ext.py\", line 587, in build_wheel\n",
      "  \u001b[31m   \u001b[0m     so_file = build_extension(cmd=(\"debug\" if debug_wheel else \"build\"),\n",
      "  \u001b[31m   \u001b[0m   File \"/private/var/folders/4n/5q3wzkcd1fb2_zg_9xld_8l00000gn/T/pip-install-i8yzssew/datatable_80fecd4ce5a345259e7c1f19913a78e8/ci/ext.py\", line 225, in build_extension\n",
      "  \u001b[31m   \u001b[0m     ext.compiler.enable_colors()\n",
      "  \u001b[31m   \u001b[0m   File \"/private/var/folders/4n/5q3wzkcd1fb2_zg_9xld_8l00000gn/T/pip-install-i8yzssew/datatable_80fecd4ce5a345259e7c1f19913a78e8/ci/xbuild/compiler.py\", line 274, in enable_colors\n",
      "  \u001b[31m   \u001b[0m     if not self.is_msvc():\n",
      "  \u001b[31m   \u001b[0m   File \"/private/var/folders/4n/5q3wzkcd1fb2_zg_9xld_8l00000gn/T/pip-install-i8yzssew/datatable_80fecd4ce5a345259e7c1f19913a78e8/ci/xbuild/compiler.py\", line 91, in is_msvc\n",
      "  \u001b[31m   \u001b[0m     return self.flavor == \"msvc\"\n",
      "  \u001b[31m   \u001b[0m   File \"/private/var/folders/4n/5q3wzkcd1fb2_zg_9xld_8l00000gn/T/pip-install-i8yzssew/datatable_80fecd4ce5a345259e7c1f19913a78e8/ci/xbuild/compiler.py\", line 78, in flavor\n",
      "  \u001b[31m   \u001b[0m     self._detect_compiler_executable()\n",
      "  \u001b[31m   \u001b[0m   File \"/private/var/folders/4n/5q3wzkcd1fb2_zg_9xld_8l00000gn/T/pip-install-i8yzssew/datatable_80fecd4ce5a345259e7c1f19913a78e8/ci/xbuild/compiler.py\", line 185, in _detect_compiler_executable\n",
      "  \u001b[31m   \u001b[0m     raise RuntimeError(\"Suitable C++ compiler cannot be determined. \"\n",
      "  \u001b[31m   \u001b[0m RuntimeError: Suitable C++ compiler cannot be determined. Please specify a compiler executable in the `CXX` environment variable.\n",
      "  \u001b[31m   \u001b[0m \u001b[31m[end of output]\u001b[0m\n",
      "  \n",
      "  \u001b[1;35mnote\u001b[0m: This error originates from a subprocess, and is likely not a problem with pip.\n",
      "\u001b[1;31merror\u001b[0m: \u001b[1mmetadata-generation-failed\u001b[0m\n",
      "\n",
      "\u001b[31m×\u001b[0m Encountered error while generating package metadata.\n",
      "\u001b[31m╰─>\u001b[0m See above for output.\n",
      "\n",
      "\u001b[1;35mnote\u001b[0m: This is an issue with the package mentioned above, not pip.\n",
      "\u001b[1;36mhint\u001b[0m: See above for details.\n"
     ]
    },
    {
     "name": "stdout",
     "output_type": "stream",
     "text": [
      "\u001b[?25h"
     ]
    },
    {
     "ename": "ModuleNotFoundError",
     "evalue": "No module named 'datatable'",
     "output_type": "error",
     "traceback": [
      "\u001b[0;31m---------------------------------------------------------------------------\u001b[0m",
      "\u001b[0;31mModuleNotFoundError\u001b[0m                       Traceback (most recent call last)",
      "Cell \u001b[0;32mIn[45], line 2\u001b[0m\n\u001b[1;32m      1\u001b[0m get_ipython()\u001b[38;5;241m.\u001b[39msystem(\u001b[38;5;124m'\u001b[39m\u001b[38;5;124mpip install datatable\u001b[39m\u001b[38;5;124m'\u001b[39m)\n\u001b[0;32m----> 2\u001b[0m \u001b[38;5;28;01mimport\u001b[39;00m \u001b[38;5;21;01mdatatable\u001b[39;00m \u001b[38;5;28;01mas\u001b[39;00m \u001b[38;5;21;01mdt\u001b[39;00m\n\u001b[1;32m      4\u001b[0m df1 \u001b[38;5;241m=\u001b[39m dt\u001b[38;5;241m.\u001b[39mFrame(A\u001b[38;5;241m=\u001b[39m[\u001b[38;5;241m1\u001b[39m, \u001b[38;5;241m2\u001b[39m, \u001b[38;5;241m3\u001b[39m, \u001b[38;5;241m4\u001b[39m], B\u001b[38;5;241m=\u001b[39m[\u001b[38;5;124m'\u001b[39m\u001b[38;5;124ma\u001b[39m\u001b[38;5;124m'\u001b[39m, \u001b[38;5;124m'\u001b[39m\u001b[38;5;124mb\u001b[39m\u001b[38;5;124m'\u001b[39m, \u001b[38;5;124m'\u001b[39m\u001b[38;5;124mc\u001b[39m\u001b[38;5;124m'\u001b[39m, \u001b[38;5;124m'\u001b[39m\u001b[38;5;124md\u001b[39m\u001b[38;5;124m'\u001b[39m])\n\u001b[1;32m      5\u001b[0m df2 \u001b[38;5;241m=\u001b[39m dt\u001b[38;5;241m.\u001b[39mFrame(A\u001b[38;5;241m=\u001b[39m[\u001b[38;5;241m1\u001b[39m, \u001b[38;5;241m2\u001b[39m, \u001b[38;5;241m3\u001b[39m, \u001b[38;5;241m4\u001b[39m, \u001b[38;5;241m5\u001b[39m], C\u001b[38;5;241m=\u001b[39m[\u001b[38;5;124m'\u001b[39m\u001b[38;5;124ma2\u001b[39m\u001b[38;5;124m'\u001b[39m, \u001b[38;5;124m'\u001b[39m\u001b[38;5;124mb2\u001b[39m\u001b[38;5;124m'\u001b[39m, \u001b[38;5;124m'\u001b[39m\u001b[38;5;124mc2\u001b[39m\u001b[38;5;124m'\u001b[39m, \u001b[38;5;124m'\u001b[39m\u001b[38;5;124md2\u001b[39m\u001b[38;5;124m'\u001b[39m, \u001b[38;5;124m'\u001b[39m\u001b[38;5;124me2\u001b[39m\u001b[38;5;124m'\u001b[39m])\n",
      "\u001b[0;31mModuleNotFoundError\u001b[0m: No module named 'datatable'"
     ]
    }
   ],
   "source": [
    "!pip install datatable\n",
    "import datatable as dt\n",
    "\n",
    "df1 = dt.Frame(A=[1, 2, 3, 4], B=['a', 'b', 'c', 'd'])\n",
    "df2 = dt.Frame(A=[1, 2, 3, 4, 5], C=['a2', 'b2', 'c2', 'd2', 'e2'])\n",
    "\n",
    "merged = df1.merge(df2, how='left', on='A')\n",
    "print(merged)"
   ]
  },
  {
   "cell_type": "code",
   "execution_count": null,
   "id": "092ca800",
   "metadata": {},
   "outputs": [],
   "source": []
  }
 ],
 "metadata": {
  "kernelspec": {
   "display_name": "Python 3 (ipykernel)",
   "language": "python",
   "name": "python3"
  },
  "language_info": {
   "codemirror_mode": {
    "name": "ipython",
    "version": 3
   },
   "file_extension": ".py",
   "mimetype": "text/x-python",
   "name": "python",
   "nbconvert_exporter": "python",
   "pygments_lexer": "ipython3",
   "version": "3.10.9"
  }
 },
 "nbformat": 4,
 "nbformat_minor": 5
}
