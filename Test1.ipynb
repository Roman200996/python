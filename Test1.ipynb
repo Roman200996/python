{
 "cells": [
  {
   "cell_type": "code",
   "execution_count": 2,
   "id": "80eb56d3",
   "metadata": {},
   "outputs": [],
   "source": [
    "import numpy as np \n",
    "import pandas as pd "
   ]
  },
  {
   "cell_type": "code",
   "execution_count": 4,
   "id": "a5881c79",
   "metadata": {},
   "outputs": [
    {
     "data": {
      "text/html": [
       "<div>\n",
       "<style scoped>\n",
       "    .dataframe tbody tr th:only-of-type {\n",
       "        vertical-align: middle;\n",
       "    }\n",
       "\n",
       "    .dataframe tbody tr th {\n",
       "        vertical-align: top;\n",
       "    }\n",
       "\n",
       "    .dataframe thead th {\n",
       "        text-align: right;\n",
       "    }\n",
       "</style>\n",
       "<table border=\"1\" class=\"dataframe\">\n",
       "  <thead>\n",
       "    <tr style=\"text-align: right;\">\n",
       "      <th></th>\n",
       "      <th>user_id</th>\n",
       "      <th>utilization_date</th>\n",
       "      <th>cost_of_utilization</th>\n",
       "      <th>LTV_forecast</th>\n",
       "    </tr>\n",
       "  </thead>\n",
       "  <tbody>\n",
       "    <tr>\n",
       "      <th>0</th>\n",
       "      <td>12345</td>\n",
       "      <td>2020-01-01 00:00:00.000</td>\n",
       "      <td>407.139370</td>\n",
       "      <td>592.860630</td>\n",
       "    </tr>\n",
       "    <tr>\n",
       "      <th>1</th>\n",
       "      <td>12346</td>\n",
       "      <td>2020-01-01 02:32:34.903</td>\n",
       "      <td>377.797379</td>\n",
       "      <td>622.202621</td>\n",
       "    </tr>\n",
       "    <tr>\n",
       "      <th>2</th>\n",
       "      <td>12347</td>\n",
       "      <td>2020-01-01 04:57:36.087</td>\n",
       "      <td>412.545913</td>\n",
       "      <td>587.454087</td>\n",
       "    </tr>\n",
       "    <tr>\n",
       "      <th>3</th>\n",
       "      <td>12348</td>\n",
       "      <td>2020-01-01 05:52:06.719</td>\n",
       "      <td>393.563618</td>\n",
       "      <td>606.436382</td>\n",
       "    </tr>\n",
       "    <tr>\n",
       "      <th>4</th>\n",
       "      <td>12349</td>\n",
       "      <td>2020-01-01 08:08:58.564</td>\n",
       "      <td>388.459055</td>\n",
       "      <td>611.540945</td>\n",
       "    </tr>\n",
       "  </tbody>\n",
       "</table>\n",
       "</div>"
      ],
      "text/plain": [
       "   user_id        utilization_date  cost_of_utilization  LTV_forecast\n",
       "0    12345 2020-01-01 00:00:00.000           407.139370    592.860630\n",
       "1    12346 2020-01-01 02:32:34.903           377.797379    622.202621\n",
       "2    12347 2020-01-01 04:57:36.087           412.545913    587.454087\n",
       "3    12348 2020-01-01 05:52:06.719           393.563618    606.436382\n",
       "4    12349 2020-01-01 08:08:58.564           388.459055    611.540945"
      ]
     },
     "execution_count": 4,
     "metadata": {},
     "output_type": "execute_result"
    }
   ],
   "source": [
    "data = pd.read_excel('/Users/romanzinchenko/Downloads/data.xlsx')\n",
    "data.head()"
   ]
  },
  {
   "cell_type": "code",
   "execution_count": 5,
   "id": "5da76bee",
   "metadata": {},
   "outputs": [
    {
     "data": {
      "text/html": [
       "<div>\n",
       "<style scoped>\n",
       "    .dataframe tbody tr th:only-of-type {\n",
       "        vertical-align: middle;\n",
       "    }\n",
       "\n",
       "    .dataframe tbody tr th {\n",
       "        vertical-align: top;\n",
       "    }\n",
       "\n",
       "    .dataframe thead th {\n",
       "        text-align: right;\n",
       "    }\n",
       "</style>\n",
       "<table border=\"1\" class=\"dataframe\">\n",
       "  <thead>\n",
       "    <tr style=\"text-align: right;\">\n",
       "      <th></th>\n",
       "      <th>user_id</th>\n",
       "      <th>utilization_date</th>\n",
       "      <th>cost_of_utilization</th>\n",
       "      <th>LTV_forecast</th>\n",
       "    </tr>\n",
       "  </thead>\n",
       "  <tbody>\n",
       "    <tr>\n",
       "      <th>8862</th>\n",
       "      <td>15934</td>\n",
       "      <td>2020-08-02 15:26:28.995</td>\n",
       "      <td>455.190159</td>\n",
       "      <td>544.809841</td>\n",
       "    </tr>\n",
       "    <tr>\n",
       "      <th>8863</th>\n",
       "      <td>15935</td>\n",
       "      <td>2020-08-02 17:36:37.248</td>\n",
       "      <td>449.919131</td>\n",
       "      <td>550.080869</td>\n",
       "    </tr>\n",
       "    <tr>\n",
       "      <th>8864</th>\n",
       "      <td>15936</td>\n",
       "      <td>2020-08-02 17:54:30.596</td>\n",
       "      <td>415.532335</td>\n",
       "      <td>584.467665</td>\n",
       "    </tr>\n",
       "    <tr>\n",
       "      <th>8865</th>\n",
       "      <td>15937</td>\n",
       "      <td>2020-08-02 20:07:57.209</td>\n",
       "      <td>442.972369</td>\n",
       "      <td>557.027631</td>\n",
       "    </tr>\n",
       "    <tr>\n",
       "      <th>8866</th>\n",
       "      <td>15938</td>\n",
       "      <td>2020-08-02 21:56:26.523</td>\n",
       "      <td>415.813331</td>\n",
       "      <td>584.186669</td>\n",
       "    </tr>\n",
       "  </tbody>\n",
       "</table>\n",
       "</div>"
      ],
      "text/plain": [
       "      user_id        utilization_date  cost_of_utilization  LTV_forecast\n",
       "8862    15934 2020-08-02 15:26:28.995           455.190159    544.809841\n",
       "8863    15935 2020-08-02 17:36:37.248           449.919131    550.080869\n",
       "8864    15936 2020-08-02 17:54:30.596           415.532335    584.467665\n",
       "8865    15937 2020-08-02 20:07:57.209           442.972369    557.027631\n",
       "8866    15938 2020-08-02 21:56:26.523           415.813331    584.186669"
      ]
     },
     "execution_count": 5,
     "metadata": {},
     "output_type": "execute_result"
    }
   ],
   "source": [
    "data.tail()"
   ]
  },
  {
   "cell_type": "code",
   "execution_count": 7,
   "id": "7d52a93d",
   "metadata": {},
   "outputs": [
    {
     "data": {
      "text/plain": [
       "(8867, 4)"
      ]
     },
     "execution_count": 7,
     "metadata": {},
     "output_type": "execute_result"
    }
   ],
   "source": [
    "data.shape"
   ]
  },
  {
   "cell_type": "code",
   "execution_count": 8,
   "id": "98d715b5",
   "metadata": {},
   "outputs": [
    {
     "data": {
      "text/html": [
       "<div>\n",
       "<style scoped>\n",
       "    .dataframe tbody tr th:only-of-type {\n",
       "        vertical-align: middle;\n",
       "    }\n",
       "\n",
       "    .dataframe tbody tr th {\n",
       "        vertical-align: top;\n",
       "    }\n",
       "\n",
       "    .dataframe thead th {\n",
       "        text-align: right;\n",
       "    }\n",
       "</style>\n",
       "<table border=\"1\" class=\"dataframe\">\n",
       "  <thead>\n",
       "    <tr style=\"text-align: right;\">\n",
       "      <th></th>\n",
       "      <th>Клиенты</th>\n",
       "      <th>Дата и время привлечения</th>\n",
       "      <th>Стоимость привлечения</th>\n",
       "      <th>Прогноз_LTV</th>\n",
       "    </tr>\n",
       "  </thead>\n",
       "  <tbody>\n",
       "    <tr>\n",
       "      <th>Количество</th>\n",
       "      <td>3810</td>\n",
       "      <td>3810</td>\n",
       "      <td>3810</td>\n",
       "      <td>3810</td>\n",
       "    </tr>\n",
       "  </tbody>\n",
       "</table>\n",
       "</div>"
      ],
      "text/plain": [
       "            Клиенты  Дата и время привлечения  Стоимость привлечения  \\\n",
       "Количество     3810                      3810                   3810   \n",
       "\n",
       "            Прогноз_LTV  \n",
       "Количество         3810  "
      ]
     },
     "execution_count": 8,
     "metadata": {},
     "output_type": "execute_result"
    }
   ],
   "source": [
    "pd.DataFrame([{'Клиенты': len(data['user_id'].value_counts()),    \n",
    "               'Дата и время привлечения': len(data['utilization_date'].value_counts()),\n",
    "               'Стоимость привлечения': len(data['cost_of_utilization'].value_counts()), \n",
    "               'Прогноз_LTV': len(data['LTV_forecast'].value_counts())\n",
    "              }], \n",
    "             columns = ['Клиенты', 'Дата и время привлечения',  'Стоимость привлечения', 'Прогноз_LTV'], index = ['Количество'])"
   ]
  },
  {
   "cell_type": "code",
   "execution_count": 9,
   "id": "598e497f",
   "metadata": {},
   "outputs": [
    {
     "name": "stdout",
     "output_type": "stream",
     "text": [
      "Количество дубликатов: 5057\n",
      "Таблица данных: строк, столбцов (8867, 4)\n"
     ]
    }
   ],
   "source": [
    "print('Количество дубликатов: {}'.format(data.duplicated().sum()))\n",
    "print('Таблица данных: строк, столбцов', data.shape)"
   ]
  },
  {
   "cell_type": "code",
   "execution_count": 10,
   "id": "a8aa48b9",
   "metadata": {},
   "outputs": [
    {
     "data": {
      "text/html": [
       "<div>\n",
       "<style scoped>\n",
       "    .dataframe tbody tr th:only-of-type {\n",
       "        vertical-align: middle;\n",
       "    }\n",
       "\n",
       "    .dataframe tbody tr th {\n",
       "        vertical-align: top;\n",
       "    }\n",
       "\n",
       "    .dataframe thead th {\n",
       "        text-align: right;\n",
       "    }\n",
       "</style>\n",
       "<table border=\"1\" class=\"dataframe\">\n",
       "  <thead>\n",
       "    <tr style=\"text-align: right;\">\n",
       "      <th></th>\n",
       "      <th>user_id</th>\n",
       "      <th>utilization_date</th>\n",
       "      <th>cost_of_utilization</th>\n",
       "      <th>LTV_forecast</th>\n",
       "      <th>id-date</th>\n",
       "    </tr>\n",
       "  </thead>\n",
       "  <tbody>\n",
       "    <tr>\n",
       "      <th>0</th>\n",
       "      <td>12345</td>\n",
       "      <td>2020-01-01 00:00:00.000</td>\n",
       "      <td>407.139370</td>\n",
       "      <td>592.860630</td>\n",
       "      <td>123452020-01-01 00:00:00</td>\n",
       "    </tr>\n",
       "    <tr>\n",
       "      <th>1</th>\n",
       "      <td>12346</td>\n",
       "      <td>2020-01-01 02:32:34.903</td>\n",
       "      <td>377.797379</td>\n",
       "      <td>622.202621</td>\n",
       "      <td>123462020-01-01 02:32:34.903000</td>\n",
       "    </tr>\n",
       "    <tr>\n",
       "      <th>2</th>\n",
       "      <td>12347</td>\n",
       "      <td>2020-01-01 04:57:36.087</td>\n",
       "      <td>412.545913</td>\n",
       "      <td>587.454087</td>\n",
       "      <td>123472020-01-01 04:57:36.087000</td>\n",
       "    </tr>\n",
       "  </tbody>\n",
       "</table>\n",
       "</div>"
      ],
      "text/plain": [
       "   user_id        utilization_date  cost_of_utilization  LTV_forecast  \\\n",
       "0    12345 2020-01-01 00:00:00.000           407.139370    592.860630   \n",
       "1    12346 2020-01-01 02:32:34.903           377.797379    622.202621   \n",
       "2    12347 2020-01-01 04:57:36.087           412.545913    587.454087   \n",
       "\n",
       "                           id-date  \n",
       "0         123452020-01-01 00:00:00  \n",
       "1  123462020-01-01 02:32:34.903000  \n",
       "2  123472020-01-01 04:57:36.087000  "
      ]
     },
     "execution_count": 10,
     "metadata": {},
     "output_type": "execute_result"
    }
   ],
   "source": [
    "data['id-date'] = data['user_id'].map(str) + data['utilization_date'].map(str)\n",
    "data.head(3)"
   ]
  },
  {
   "cell_type": "code",
   "execution_count": 12,
   "id": "6f6358a1",
   "metadata": {},
   "outputs": [
    {
     "data": {
      "text/html": [
       "<div>\n",
       "<style scoped>\n",
       "    .dataframe tbody tr th:only-of-type {\n",
       "        vertical-align: middle;\n",
       "    }\n",
       "\n",
       "    .dataframe tbody tr th {\n",
       "        vertical-align: top;\n",
       "    }\n",
       "\n",
       "    .dataframe thead th {\n",
       "        text-align: right;\n",
       "    }\n",
       "</style>\n",
       "<table border=\"1\" class=\"dataframe\">\n",
       "  <thead>\n",
       "    <tr style=\"text-align: right;\">\n",
       "      <th></th>\n",
       "      <th>id-date</th>\n",
       "    </tr>\n",
       "  </thead>\n",
       "  <tbody>\n",
       "    <tr>\n",
       "      <th>Количество</th>\n",
       "      <td>3810</td>\n",
       "    </tr>\n",
       "  </tbody>\n",
       "</table>\n",
       "</div>"
      ],
      "text/plain": [
       "            id-date\n",
       "Количество     3810"
      ]
     },
     "execution_count": 12,
     "metadata": {},
     "output_type": "execute_result"
    }
   ],
   "source": [
    "pd.DataFrame([{'id-date': len(data['id-date'].value_counts())\n",
    "              }], columns = ['id-date'], index = ['Количество'])"
   ]
  },
  {
   "cell_type": "code",
   "execution_count": 13,
   "id": "01dacd18",
   "metadata": {},
   "outputs": [
    {
     "name": "stdout",
     "output_type": "stream",
     "text": [
      "Таблица данных: строк, столбцов (3810, 5)\n"
     ]
    }
   ],
   "source": [
    "data.drop_duplicates(subset=['id-date'], inplace = True) \n",
    "print('Таблица данных: строк, столбцов', data.shape)"
   ]
  },
  {
   "cell_type": "code",
   "execution_count": 14,
   "id": "22af2fd5",
   "metadata": {},
   "outputs": [],
   "source": [
    "data['month_year'] = pd.to_datetime( data[ 'utilization_date' ]).dt.to_period( 'M' )"
   ]
  },
  {
   "cell_type": "code",
   "execution_count": 15,
   "id": "2c4b4111",
   "metadata": {},
   "outputs": [
    {
     "data": {
      "text/plain": [
       "Text(0, 0.5, 'количество клиентов')"
      ]
     },
     "execution_count": 15,
     "metadata": {},
     "output_type": "execute_result"
    },
    {
     "data": {
      "image/png": "[encoded data removed]",
      "text/plain": [
       "<Figure size 640x480 with 1 Axes>"
      ]
     },
     "metadata": {},
     "output_type": "display_data"
    }
   ],
   "source": [
    "from matplotlib import pyplot as plt\n",
    "data.groupby(['month_year'])['user_id'].nunique().plot.bar()\n",
    "plt.xlabel('по месяцам')\n",
    "plt.ylabel('количество клиентов')"
   ]
  },
  {
   "cell_type": "code",
   "execution_count": 16,
   "id": "6bfc8cb0",
   "metadata": {},
   "outputs": [
    {
     "data": {
      "text/plain": [
       "Text(0, 0.5, 'стоимость привлечения')"
      ]
     },
     "execution_count": 16,
     "metadata": {},
     "output_type": "execute_result"
    },
    {
     "data": {
      "image/png": "[encoded data removed]",
      "text/plain": [
       "<Figure size 640x480 with 1 Axes>"
      ]
     },
     "metadata": {},
     "output_type": "display_data"
    }
   ],
   "source": [
    "data.groupby(['month_year'])['cost_of_utilization'].sum().plot.bar() \n",
    "plt.xlabel('по месяцам') # подпишем оси\n",
    "plt.ylabel('стоимость привлечения')"
   ]
  },
  {
   "cell_type": "code",
   "execution_count": 18,
   "id": "c29c5bc1",
   "metadata": {},
   "outputs": [
    {
     "data": {
      "text/plain": [
       "Text(0, 0.5, 'Прогноз LTV')"
      ]
     },
     "execution_count": 18,
     "metadata": {},
     "output_type": "execute_result"
    },
    {
     "data": {
      "image/png": "[encoded data removed]",
      "text/plain": [
       "<Figure size 640x480 with 1 Axes>"
      ]
     },
     "metadata": {},
     "output_type": "display_data"
    }
   ],
   "source": [
    "data.groupby(['month_year'])['LTV_forecast'].sum().plot.bar()\n",
    "plt.xlabel('по месяцам')\n",
    "plt.ylabel('Прогноз LTV')"
   ]
  },
  {
   "cell_type": "code",
   "execution_count": 19,
   "id": "ec004353",
   "metadata": {},
   "outputs": [
    {
     "name": "stdout",
     "output_type": "stream",
     "text": [
      "  month_year  user_id count  cost_of_utilization sum  LTV_forecast sum\n",
      "0    2020-01            529            208439.999275     320560.000725\n",
      "1    2020-02            485            193973.065914     291026.934086\n",
      "2    2020-03            515            209645.818806     305354.181194\n",
      "3    2020-04            509            209601.483031     299398.516969\n",
      "4    2020-05            515            215513.018028     299486.981972\n",
      "5    2020-06            502            213590.792713     288409.207287\n",
      "6    2020-07            509            219305.994314     289694.005686\n",
      "7    2020-08            246            107096.531052     138903.468948\n"
     ]
    }
   ],
   "source": [
    "monthly = data.groupby(['month_year']).agg({'user_id': ['count'], 'cost_of_utilization': ['sum'],\n",
    "                                       'LTV_forecast': ['sum']})\n",
    "monthly.columns = monthly.columns.map(' '.join).str.strip()\n",
    "monthly = monthly.reset_index(level='month_year')\n",
    "monthly ['month_year'] = monthly ['month_year'].map(str)\n",
    "print (monthly)"
   ]
  },
  {
   "cell_type": "code",
   "execution_count": 20,
   "id": "282fbf88",
   "metadata": {},
   "outputs": [
    {
     "name": "stdout",
     "output_type": "stream",
     "text": [
      "  month_year  средняя стоимость привлечения  средний прогноз LTV\n",
      "0    2020-01                     394.026464           605.973536\n",
      "1    2020-02                     399.944466           600.055534\n",
      "2    2020-03                     407.079260           592.920740\n",
      "3    2020-04                     411.790733           588.209267\n",
      "4    2020-05                     418.471880           581.528120\n",
      "5    2020-06                     425.479667           574.520333\n",
      "6    2020-07                     430.856570           569.143430\n",
      "7    2020-08                     435.351752           564.648248\n"
     ]
    }
   ],
   "source": [
    "monthly ['средняя стоимость привлечения'] = monthly['cost_of_utilization sum'] /  monthly['user_id count'] \n",
    "monthly ['средний прогноз LTV'] = monthly['LTV_forecast sum'] /  monthly['user_id count']\n",
    "monthly.drop(['user_id count',  'cost_of_utilization sum',  'LTV_forecast sum'], axis = 1, inplace = True)\n",
    "print (monthly)"
   ]
  },
  {
   "cell_type": "code",
   "execution_count": 21,
   "id": "5c1e0a61",
   "metadata": {},
   "outputs": [
    {
     "data": {
      "text/plain": [
       "<matplotlib.legend.Legend at 0x7fcb8149be80>"
      ]
     },
     "execution_count": 21,
     "metadata": {},
     "output_type": "execute_result"
    },
    {
     "data": {
      "image/png": "[encoded data removed]",
      "text/plain": [
       "<Figure size 640x480 with 1 Axes>"
      ]
     },
     "metadata": {},
     "output_type": "display_data"
    }
   ],
   "source": [
    "plt.plot( 'month_year', 'средняя стоимость привлечения', data = monthly, color = 'skyblue', linewidth = 4)\n",
    "plt.plot( 'month_year', 'средний прогноз LTV', data = monthly, color = 'olive', linewidth = 4)\n",
    "plt.legend()"
   ]
  },
  {
   "cell_type": "markdown",
   "id": "39506370",
   "metadata": {},
   "source": [
    "## Выводы\n",
    "Необходимо уточнить процедуры ETL, поскольку данные содержат много дубликатов, что может исказить результаты анализа. Кроме того, следует обратить внимание на то, что средняя стоимость привлечения клиента значительно выросла за 7 месяцев с 394 до 430, т.е. на почти 10%. Одновременно с этим, прогноз среднего LTV снизился с 605 до 564, т.е. на 6.66%. Эти факторы указывают на порчу клиентской базы, что требует изменений."
   ]
  },
  {
   "cell_type": "code",
   "execution_count": null,
   "id": "ee99f654",
   "metadata": {},
   "outputs": [],
   "source": []
  }
 ],
 "metadata": {
  "kernelspec": {
   "display_name": "Python 3 (ipykernel)",
   "language": "python",
   "name": "python3"
  },
  "language_info": {
   "codemirror_mode": {
    "name": "ipython",
    "version": 3
   },
   "file_extension": ".py",
   "mimetype": "text/x-python",
   "name": "python",
   "nbconvert_exporter": "python",
   "pygments_lexer": "ipython3",
   "version": "3.10.9"
  }
 },
 "nbformat": 4,
 "nbformat_minor": 5
}
